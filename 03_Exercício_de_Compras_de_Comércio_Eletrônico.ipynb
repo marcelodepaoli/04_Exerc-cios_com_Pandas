{
  "cells": [
    {
      "cell_type": "markdown",
      "metadata": {
        "id": "0wKQaZEmX0vV"
      },
      "source": [
        "# Exercício de Compras de Comércio Eletrônico\n",
        "\n",
        "Neste exercício, você receberá alguns dados falsos sobre compras feitas pela Amazon! Basta seguir as instruções e tentar responder às perguntas e concluir as tarefas. As tarefas podem ser resolvidas de diferentes maneiras. Na maioria das vezes, as perguntas ficam progressivamente mais difíceis\n",
        "\n",
        "Ignore qualquer coisa do dataframe que não faça sentido no \"Mundo Real\", todos os dados são falsos\n",
        "\n",
        "Observe que todas as perguntas podem ser respondidas com uma única linha de código"
      ]
    },
    {
      "cell_type": "markdown",
      "source": [
        "\n",
        "**Importe o pandas e leia o arquivo csv \"Ecommerce Purchases\" e defina-o como um DataFrame chamado ecom**"
      ],
      "metadata": {
        "id": "SBWhYcruZ-eQ"
      }
    },
    {
      "cell_type": "code",
      "source": [
        "# Esse trecho do código é obrigatório para quem estiver fazendo tudo pelo colab\n",
        "# Caso você esteja utilizando o jupyter pode comentar/apagar\n",
        "import os\n",
        "from google.colab import drive\n",
        "\n",
        "drive.mount('/content/drive')\n",
        "os.chdir(\"drive/My Drive/Colab Notebooks/04_Exercícios_com_Pandas\")\n",
        "os.listdir()"
      ],
      "metadata": {
        "colab": {
          "base_uri": "https://localhost:8080/"
        },
        "id": "zrSQiLqBkDn8",
        "outputId": "fb7f6a0f-24df-405a-e9c6-ce6b467787b8"
      },
      "execution_count": null,
      "outputs": [
        {
          "output_type": "stream",
          "name": "stdout",
          "text": [
            "Mounted at /content/drive\n"
          ]
        },
        {
          "output_type": "execute_result",
          "data": {
            "text/plain": [
              "['Ecommerce Purchases',\n",
              " 'Salaries.csv',\n",
              " '02 - Exercício Salários - SOLUÇÕES.ipynb',\n",
              " '01 - Exercício Salários.ipynb']"
            ]
          },
          "metadata": {},
          "execution_count": 3
        }
      ]
    },
    {
      "cell_type": "code",
      "execution_count": null,
      "metadata": {
        "collapsed": true,
        "id": "aAceGFwPX0vX"
      },
      "outputs": [],
      "source": []
    },
    {
      "cell_type": "markdown",
      "metadata": {
        "id": "ZmmXU-fxX0vY"
      },
      "source": [
        "**Verifique o cabeçalho do DataFrame**"
      ]
    },
    {
      "cell_type": "code",
      "execution_count": null,
      "metadata": {
        "id": "-UHJobyAX0vZ"
      },
      "outputs": [],
      "source": []
    },
    {
      "cell_type": "markdown",
      "metadata": {
        "id": "smhwsrbmX0vZ"
      },
      "source": [
        "**Quantas linhas e colunas existem?**"
      ]
    },
    {
      "cell_type": "code",
      "execution_count": null,
      "metadata": {
        "id": "bsfjus92X0va"
      },
      "outputs": [],
      "source": []
    },
    {
      "cell_type": "markdown",
      "metadata": {
        "id": "vL4-poGJX0va"
      },
      "source": [
        "**Qual é o preço médio de compra?**"
      ]
    },
    {
      "cell_type": "code",
      "execution_count": null,
      "metadata": {
        "id": "n1qzaD0QX0va"
      },
      "outputs": [],
      "source": []
    },
    {
      "cell_type": "markdown",
      "metadata": {
        "id": "uH_YMo3tX0vb"
      },
      "source": [
        "**Quais foram os preços de compra mais altos e mais baixos?**"
      ]
    },
    {
      "cell_type": "code",
      "execution_count": null,
      "metadata": {
        "id": "sksG54_7X0vb"
      },
      "outputs": [],
      "source": []
    },
    {
      "cell_type": "markdown",
      "metadata": {
        "id": "sFAbvT5fX0vc"
      },
      "source": [
        "**Quantas pessoas têm inglês 'en' como idioma de escolha no site?**"
      ]
    },
    {
      "cell_type": "code",
      "execution_count": null,
      "metadata": {
        "id": "Isjx2MgNX0vc"
      },
      "outputs": [],
      "source": []
    },
    {
      "cell_type": "markdown",
      "metadata": {
        "id": "3iX4PsBOX0vc"
      },
      "source": [
        "**Quantas pessoas têm o cargo de \"Lawyer\"?**\n"
      ]
    },
    {
      "cell_type": "code",
      "execution_count": null,
      "metadata": {
        "id": "D1UlEXOuX0vc"
      },
      "outputs": [],
      "source": []
    },
    {
      "cell_type": "markdown",
      "metadata": {
        "id": "kkJtE6Z9X0vc"
      },
      "source": [
        "**Quantas pessoas fizeram a compra durante a manhã (AM) e quantas pessoas fizeram a compra durante a tarde (PM)?**\n",
        "\n",
        "**(Dica: Confira [value_counts()](http://pandas.pydata.org/pandas-docs/stable/generated/pandas.Series.value_counts.html))**"
      ]
    },
    {
      "cell_type": "code",
      "execution_count": null,
      "metadata": {
        "id": "6s1pQcRfX0vc"
      },
      "outputs": [],
      "source": []
    },
    {
      "cell_type": "markdown",
      "metadata": {
        "id": "ZtCMWTATX0vd"
      },
      "source": [
        "**Quais são os 5 cargos mais comuns?**"
      ]
    },
    {
      "cell_type": "code",
      "execution_count": null,
      "metadata": {
        "id": "vKui5GmxX0vd"
      },
      "outputs": [],
      "source": []
    },
    {
      "cell_type": "markdown",
      "metadata": {
        "id": "fqcXqxQtX0vd"
      },
      "source": [
        "**Alguém fez uma compra que veio do Lote: \"90 WT\", qual foi o Preço de Compra (Purchase Price) dessa transação?**"
      ]
    },
    {
      "cell_type": "code",
      "execution_count": null,
      "metadata": {
        "id": "Dt2a7shdX0vd"
      },
      "outputs": [],
      "source": []
    },
    {
      "cell_type": "markdown",
      "metadata": {
        "id": "Quox1Z4gX0vd"
      },
      "source": [
        "**Qual é o email da pessoa com o seguinte número de cartão de crédito: 4926535242672853**"
      ]
    },
    {
      "cell_type": "code",
      "execution_count": null,
      "metadata": {
        "id": "NSj95imbX0ve"
      },
      "outputs": [],
      "source": []
    },
    {
      "cell_type": "markdown",
      "metadata": {
        "id": "UUdn_8dvX0ve"
      },
      "source": [
        "**Quantas pessoas têm American Express como seu provedor de cartão de crédito e fizeram uma compra acima de $ 95?**"
      ]
    },
    {
      "cell_type": "code",
      "execution_count": null,
      "metadata": {
        "id": "7inqBOF4X0ve"
      },
      "outputs": [],
      "source": []
    },
    {
      "cell_type": "markdown",
      "metadata": {
        "id": "RLIsG6irX0ve"
      },
      "source": [
        "**Difícil: quantas pessoas têm um cartão de crédito que vence em 2025?**"
      ]
    },
    {
      "cell_type": "code",
      "execution_count": null,
      "metadata": {
        "id": "_lfINLzhX0ve"
      },
      "outputs": [],
      "source": []
    },
    {
      "cell_type": "markdown",
      "metadata": {
        "id": "YyXxBYQnX0ve"
      },
      "source": [
        "**Difícil: Quais são os 5 principais provedores/hosts de e-mail mais populares (por exemplo, gmail.com, yahoo.com, etc...)**"
      ]
    },
    {
      "cell_type": "code",
      "execution_count": null,
      "metadata": {
        "id": "RCfGPH-9X0ve"
      },
      "outputs": [],
      "source": []
    }
  ],
  "metadata": {
    "kernelspec": {
      "display_name": "Python 3",
      "language": "python",
      "name": "python3"
    },
    "language_info": {
      "codemirror_mode": {
        "name": "ipython",
        "version": 3
      },
      "file_extension": ".py",
      "mimetype": "text/x-python",
      "name": "python",
      "nbconvert_exporter": "python",
      "pygments_lexer": "ipython3",
      "version": "3.5.1"
    },
    "colab": {
      "provenance": [],
      "collapsed_sections": []
    }
  },
  "nbformat": 4,
  "nbformat_minor": 0
}