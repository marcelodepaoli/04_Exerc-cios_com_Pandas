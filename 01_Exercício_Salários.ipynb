{
  "cells": [
    {
      "cell_type": "markdown",
      "metadata": {
        "id": "view-in-github",
        "colab_type": "text"
      },
      "source": [
        "<a href=\"https://colab.research.google.com/github/marcelodepaoli/04_Exercicios_com_Pandas/blob/main/01_Exerc%C3%ADcio_Sal%C3%A1rios.ipynb\" target=\"_parent\"><img src=\"https://colab.research.google.com/assets/colab-badge.svg\" alt=\"Open In Colab\"/></a>"
      ]
    },
    {
      "cell_type": "markdown",
      "metadata": {
        "id": "KoDwDUOoO_Bg"
      },
      "source": [
        "# Exercício Salários\n",
        "\n",
        "Bem-vindo a um exercício para praticar suas habilidades no pandas! Usaremos o [SF Salaries Dataset](https://www.kaggle.com/kaggle/sf-salaries) do Kaggle! Basta concluir as tarefas descritas em negrito abaixo. As tarefas ficarão cada vez mais difíceis à medida que você avança"
      ]
    },
    {
      "cell_type": "markdown",
      "metadata": {
        "id": "jcs1Kmc7O_Bh"
      },
      "source": [
        "**Importe pandas como pd**"
      ]
    },
    {
      "cell_type": "code",
      "execution_count": null,
      "metadata": {
        "collapsed": true,
        "id": "Ga8an5XjO_Bh"
      },
      "outputs": [],
      "source": []
    },
    {
      "cell_type": "markdown",
      "metadata": {
        "id": "z7pVyLN4O_Bi"
      },
      "source": [
        "**Leia Salaries.csv como um dataframe chamado sal**"
      ]
    },
    {
      "cell_type": "code",
      "source": [
        "# Esse trecho do código é obrigatório para quem estiver fazendo tudo pelo colab\n",
        "# Caso você esteja utilizando o jupyter pode comentar/apagar\n",
        "import os\n",
        "from google.colab import drive\n",
        "\n",
        "drive.mount('/content/drive')\n",
        "os.chdir(\"drive/My Drive/Colab Notebooks/IA/04_Exercícios_com_Pandas\")\n",
        "os.listdir()"
      ],
      "metadata": {
        "id": "x_BgxV2lPdJn",
        "colab": {
          "base_uri": "https://localhost:8080/"
        },
        "outputId": "fc8418ab-4b7d-4d7e-922c-de585dcce528"
      },
      "execution_count": null,
      "outputs": [
        {
          "output_type": "stream",
          "name": "stdout",
          "text": [
            "Drive already mounted at /content/drive; to attempt to forcibly remount, call drive.mount(\"/content/drive\", force_remount=True).\n"
          ]
        },
        {
          "output_type": "execute_result",
          "data": {
            "text/plain": [
              "['01 - Exercício Salários.ipynb',\n",
              " 'Ecommerce Purchases',\n",
              " 'Salaries.csv',\n",
              " '03 - Exercício de Compras de Comércio Eletrônico.ipynb',\n",
              " '02 - Exercício Salários - SOLUÇÕES.ipynb',\n",
              " '04 - Exercício de Compras de Comércio Eletrônico - SOLUÇÕES.ipynb']"
            ]
          },
          "metadata": {},
          "execution_count": 2
        }
      ]
    },
    {
      "cell_type": "code",
      "execution_count": null,
      "metadata": {
        "id": "iAh8QTFwO_Bi"
      },
      "outputs": [],
      "source": []
    },
    {
      "cell_type": "markdown",
      "metadata": {
        "id": "ZVwzwOVTO_Bi"
      },
      "source": [
        "**Verifique a cabeçalho do DataFrame**"
      ]
    },
    {
      "cell_type": "code",
      "execution_count": null,
      "metadata": {
        "id": "V0Pxv2s-O_Bi"
      },
      "outputs": [],
      "source": []
    },
    {
      "cell_type": "markdown",
      "metadata": {
        "id": "mVygDQKnO_Bj"
      },
      "source": [
        "**Utilize o método .info() para obter quantas entradas existem**"
      ]
    },
    {
      "cell_type": "code",
      "execution_count": null,
      "metadata": {
        "id": "wie5c8PtO_Bk"
      },
      "outputs": [],
      "source": []
    },
    {
      "cell_type": "markdown",
      "metadata": {
        "id": "LMwSUvzNO_Bk"
      },
      "source": [
        "**Qual é a média de BasePay?**"
      ]
    },
    {
      "cell_type": "code",
      "execution_count": null,
      "metadata": {
        "id": "KTwYFhJJO_Bl"
      },
      "outputs": [],
      "source": []
    },
    {
      "cell_type": "markdown",
      "metadata": {
        "id": "EC9gTsF5O_Bl"
      },
      "source": [
        "**Qual o maior valor de OvertimePay no dataset?**"
      ]
    },
    {
      "cell_type": "code",
      "execution_count": null,
      "metadata": {
        "id": "2ipD0yhqO_Bl"
      },
      "outputs": [],
      "source": []
    },
    {
      "cell_type": "markdown",
      "metadata": {
        "id": "Jjl3WcdQO_Bm"
      },
      "source": [
        "**Qual é o cargo de JOSEPH DRISCOLL? Nota: Use todas as letras maiúsculas, caso contrário você pode obter uma resposta diferente (há também um Joseph Driscoll todo em minúsculas)**"
      ]
    },
    {
      "cell_type": "code",
      "execution_count": null,
      "metadata": {
        "id": "h35xTBkvO_Bm"
      },
      "outputs": [],
      "source": []
    },
    {
      "cell_type": "markdown",
      "metadata": {
        "id": "_b3PkGkEO_Bm"
      },
      "source": [
        "**Quanto ganha JOSEPH DRISCOLL (incluindo benefícios)?**"
      ]
    },
    {
      "cell_type": "code",
      "execution_count": null,
      "metadata": {
        "id": "Agzbd1iLO_Bm"
      },
      "outputs": [],
      "source": []
    },
    {
      "cell_type": "markdown",
      "metadata": {
        "id": "fv588pnfO_Bm"
      },
      "source": [
        "**Qual é o nome da pessoa mais bem paga (incluindo benefícios)?**"
      ]
    },
    {
      "cell_type": "code",
      "execution_count": null,
      "metadata": {
        "id": "rGD9j8rUO_Bm"
      },
      "outputs": [],
      "source": []
    },
    {
      "cell_type": "markdown",
      "metadata": {
        "id": "Mcx62bxlO_Bn"
      },
      "source": [
        "**Qual é o nome da pessoa com o salário mais baixo (incluindo benefícios)? Você percebe algo estranho sobre o quanto ele ou ela é pago?**"
      ]
    },
    {
      "cell_type": "code",
      "execution_count": null,
      "metadata": {
        "id": "xLsI-4G4O_Bo"
      },
      "outputs": [],
      "source": []
    },
    {
      "cell_type": "markdown",
      "metadata": {
        "id": "H_xpwEFgO_Bo"
      },
      "source": [
        "**Qual foi a média de  BasePay de todos os funcionários por ano? (2011-2014)?**"
      ]
    },
    {
      "cell_type": "code",
      "execution_count": null,
      "metadata": {
        "id": "UYezWWBZO_Bo"
      },
      "outputs": [],
      "source": []
    },
    {
      "cell_type": "markdown",
      "metadata": {
        "id": "J1e-jWp1O_Bp"
      },
      "source": [
        "\n",
        "**Quantos cargos únicos existem?**"
      ]
    },
    {
      "cell_type": "code",
      "execution_count": null,
      "metadata": {
        "id": "Nd43rhkWO_Bp"
      },
      "outputs": [],
      "source": []
    },
    {
      "cell_type": "markdown",
      "metadata": {
        "id": "4y_QSjA4O_Bp"
      },
      "source": [
        "**Quais são os 5 empregos mais comuns?**"
      ]
    },
    {
      "cell_type": "code",
      "execution_count": null,
      "metadata": {
        "id": "7RMykJFoO_Bp"
      },
      "outputs": [],
      "source": []
    },
    {
      "cell_type": "markdown",
      "metadata": {
        "id": "oN7FzC0pO_Bp"
      },
      "source": [
        "**Quantos cargos foram representados por apenas uma pessoa em 2013? (por exemplo, Cargos com apenas uma ocorrência em 2013?)**"
      ]
    },
    {
      "cell_type": "code",
      "execution_count": null,
      "metadata": {
        "id": "L8_zU6BgO_Bp"
      },
      "outputs": [],
      "source": []
    },
    {
      "cell_type": "markdown",
      "metadata": {
        "id": "g8VqvghfO_Bq"
      },
      "source": [
        "**Quantas pessoas têm a palavra Chefe em seu cargo? (Isso é bem difícil)**"
      ]
    },
    {
      "cell_type": "code",
      "execution_count": null,
      "metadata": {
        "collapsed": true,
        "id": "Tvs1rBQoO_Bq"
      },
      "outputs": [],
      "source": []
    },
    {
      "cell_type": "markdown",
      "metadata": {
        "id": "Dri7Ci4zO_Bq"
      },
      "source": [
        "**Bônus: Existe uma correlação entre o comprimento da string Cargo e Salário?**"
      ]
    },
    {
      "cell_type": "code",
      "execution_count": null,
      "metadata": {
        "id": "lqqv3lfZO_Bq"
      },
      "outputs": [],
      "source": []
    }
  ],
  "metadata": {
    "kernelspec": {
      "display_name": "Python 3",
      "language": "python",
      "name": "python3"
    },
    "language_info": {
      "codemirror_mode": {
        "name": "ipython",
        "version": 3
      },
      "file_extension": ".py",
      "mimetype": "text/x-python",
      "name": "python",
      "nbconvert_exporter": "python",
      "pygments_lexer": "ipython3",
      "version": "3.5.1"
    },
    "colab": {
      "provenance": [],
      "include_colab_link": true
    }
  },
  "nbformat": 4,
  "nbformat_minor": 0
}